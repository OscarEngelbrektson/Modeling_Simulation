{
 "cells": [
  {
   "cell_type": "code",
   "execution_count": 1,
   "metadata": {},
   "outputs": [],
   "source": [
    "import networkx as nx\n",
    "import numpy as np\n",
    "import matplotlib.pyplot as plt"
   ]
  },
  {
   "cell_type": "code",
   "execution_count": 3,
   "metadata": {},
   "outputs": [],
   "source": [
    "import networkx as nx\n",
    "experimental_k = []  # average degree\n",
    "experimental_lcc_size = []  # size of largest connected component\n",
    "edge_prob = list(np.linspace(0.001,0.01,10))\n",
    "# Generate 100 different Erdős-Renyi random graphs with networkx.erdos_renyi_graph()\n",
    "for p in edge_prob:\n",
    "    for i in range(100):\n",
    "        G = nx.erdos_renyi_graph(1000,p)\n",
    "        experimental_k.append(G.number_of_edges()*2/G.number_of_nodes())\n",
    "        #experimental_k.append(np.mean(nx.degree(G).values()))\n",
    "        experimental_lcc_size.append(max(nx.connected_components(G), key=len))\n",
    "    \n",
    "# For each random graph calculate and record\n",
    "#  - the average degree of the network\n",
    "#  - the size of the LCC with networkx.connected_components()"
   ]
  },
  {
   "cell_type": "code",
   "execution_count": null,
   "metadata": {},
   "outputs": [],
   "source": [
    "plt.scatter(experimental_k,experimental_lcc_size)\n",
    "plt.show()"
   ]
  },
  {
   "cell_type": "code",
   "execution_count": null,
   "metadata": {},
   "outputs": [],
   "source": [
    "a = {}"
   ]
  }
 ],
 "metadata": {
  "kernelspec": {
   "display_name": "Python 3",
   "language": "python",
   "name": "python3"
  },
  "language_info": {
   "codemirror_mode": {
    "name": "ipython",
    "version": 3
   },
   "file_extension": ".py",
   "mimetype": "text/x-python",
   "name": "python",
   "nbconvert_exporter": "python",
   "pygments_lexer": "ipython3",
   "version": "3.6.9"
  }
 },
 "nbformat": 4,
 "nbformat_minor": 2
}
