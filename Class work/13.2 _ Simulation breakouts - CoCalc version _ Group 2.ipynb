{
 "cells": [
  {
   "cell_type": "markdown",
   "metadata": {
    "collapsed": false
   },
   "source": [
    "# Stock price random walks\n",
    "\n",
    "## Instructions\n",
    "* **Aim to complete all tasks and answer all questions.**\n",
    "* The function below simulates a price random walk.\n",
    "* The function is used to simulate the future price of a stock that has\n",
    "  * Current price: 100\n",
    "  * Average growth per year: 7.5%\n",
    "  * Annual volatility: 10%\n",
    "* The step size is 1 day and the simulation calculates the future price of the stock after 90 days."
   ]
  },
  {
   "cell_type": "code",
   "execution_count": 3,
   "metadata": {
    "collapsed": false
   },
   "outputs": [
   ],
   "source": [
    "import numpy as np\n",
    "import matplotlib.pyplot as plt\n",
    "\n",
    "def random_price_walk(initial_price, growth, volatility, delta_t, steps, trials=100):\n",
    "    '''\n",
    "    Simulate stock price movement using a random walk.\n",
    "\n",
    "    Arguments:\n",
    "\n",
    "        initial_price (float) The stock price at time 0.\n",
    "\n",
    "        growth (float) The stock price growth rate per unit of time.\n",
    "\n",
    "        volatility (float) The stock price volatility expressed as a\n",
    "          standard deviation per square root time.\n",
    "\n",
    "        delta_t (float) The amount of time that passes per step of the\n",
    "          simulation.\n",
    "\n",
    "        steps (int) The number of time steps to simulate.\n",
    "\n",
    "        trials (int) The number of random walks to generate, each using\n",
    "          the same price, time and growth parameters. Default: 100.\n",
    "\n",
    "    Returns: array with shape (trials, steps + 1) containing simulated\n",
    "      prices from time 0 to time (steps * delta_t).\n",
    "    '''\n",
    "    prices = np.zeros((trials, steps + 1))\n",
    "    for trial in range(trials):\n",
    "        prices[trial, 0] = initial_price\n",
    "        for step in range(steps):\n",
    "            prices[trial, step + 1] = prices[trial, step] * (\n",
    "                1 + growth * delta_t + volatility * np.random.normal(0, delta_t ** 0.5))\n",
    "    return prices"
   ]
  },
  {
   "cell_type": "markdown",
   "metadata": {
    "collapsed": false
   },
   "source": [
    "<span style='background-color:#5cb85c;padding: 5px 20px 5px 20px;line-height:30px;color:white;font-weight: bold; border-radius: 25px'>Task 1</span>\n",
    "\n",
    "Run the simulation and plot some random walks. The cell below will take about 1 minute to run and will save the results of the random walks in the `prices` variable."
   ]
  },
  {
   "cell_type": "code",
   "execution_count": 4,
   "metadata": {
    "collapsed": false
   },
   "outputs": [
   ],
   "source": [
    "# Generate 100,000 samples of the future price of a stock.\n",
    "# Note that the result, prices, is an array with shape 100,000 x 90 since\n",
    "# we have 100,000 repetitions of the simulation and 90 time steps.\n",
    "prices = random_price_walk(\n",
    "    initial_price=100,  # The starting price of the stock: 100\n",
    "    growth=0.075,  # The average growth _per year_ for the stock: 7.5%\n",
    "    volatility=0.1,  # The _annual_ volatility (standard deviation) of the stock: 10%\n",
    "    delta_t=1/365,  # The step size: 1 day\n",
    "    steps=90,  # The number of steps: 90 days\n",
    "    trials=100000)  # How many times to repeat the simulation\n",
    "\n",
    "# Plot 10 random price walks, showing how the stock price changes with the number of days.\n",
    "plt.figure(figsize=(8, 6))\n",
    "plt.plot(prices[:10].transpose())\n",
    "plt.title('10 sample stock price random walks')\n",
    "plt.xlabel('number of days since start')\n",
    "plt.ylabel('stock price')\n",
    "\n",
    "plt.show()"
   ]
  },
  {
   "cell_type": "markdown",
   "metadata": {
    "collapsed": false
   },
   "source": [
    "<span class=\"minerva-question\" style='background-color:#5cb85c;padding: 5px 20px 5px 20px;line-height:30px;color:white;font-weight: bold; border-radius: 25px'>Question 1</span>\n",
    "\n",
    "Do these stock price graphs look realistic?"
   ]
  },
  {
   "cell_type": "raw",
   "metadata": {
    "collapsed": false
   },
   "source": [
    "Can simulate the price fluctuations, but unable to predict radical shifts in the price as in recessions/booms "
   ]
  },
  {
   "cell_type": "markdown",
   "metadata": {
    "collapsed": false
   },
   "source": [
    "<span class=\"minerva-question\" style='background-color:#5cb85c;padding: 5px 20px 5px 20px;line-height:30px;color:white;font-weight: bold; border-radius: 25px'>Question 2</span>\n",
    "\n",
    "What do you think the strengths and weaknesses of this price model are?"
   ]
  },
  {
   "cell_type": "raw",
   "metadata": {
    "collapsed": false
   },
   "source": [
    "It does a good job with presenting the fluct, underestimates probability of extreme market events, like 2008 uations in the prices but underestimates the potential price falls as the result of systemtic contagion."
   ]
  },
  {
   "cell_type": "markdown",
   "metadata": {
    "collapsed": false
   },
   "source": [
    "<span class=\"minerva-question\" style='background-color:#5cb85c;padding: 5px 20px 5px 20px;line-height:30px;color:white;font-weight: bold; border-radius: 25px'>Task 2</span>\n",
    "\n",
    "Plot a histogram over the future value (after 90 days) of the stock."
   ]
  },
  {
   "cell_type": "code",
   "execution_count": 9,
   "metadata": {
    "collapsed": false
   },
   "outputs": [
    {
     "data": {
      "text/plain": [
       "array([102.04046413,  94.25610523, 105.5883953 , ...,  94.67588137,\n",
       "        99.87071646, 101.26861013])"
      ]
     },
     "execution_count": 9,
     "metadata": {
     },
     "output_type": "execute_result"
    }
   ],
   "source": [
   ]
  },
  {
   "cell_type": "code",
   "execution_count": 0,
   "metadata": {
    "collapsed": false
   },
   "outputs": [
   ],
   "source": [
    "plt.hist(prices[:, -1], bins=\"auto\")\n",
    "plt.show()"
   ]
  },
  {
   "cell_type": "markdown",
   "metadata": {
    "collapsed": false
   },
   "source": [
    "<span class=\"minerva-question\" style='background-color:#5cb85c;padding: 5px 20px 5px 20px;line-height:30px;color:white;font-weight: bold; border-radius: 25px'>Task 3</span>\n",
    "\n",
    "Use your histogram of future price values to estimate the **present value** of a **call** option expiring in 90 days with a strike price of 100. Use a risk-free rate of return of 7.5%."
   ]
  },
  {
   "cell_type": "code",
   "execution_count": 2,
   "metadata": {
    "collapsed": false
   },
   "outputs": [
    {
     "ename": "NameError",
     "evalue": "name 'prices' is not defined",
     "output_type": "error",
     "traceback": [
      "\u001b[0;31m---------------------------------------------------------------------------\u001b[0m",
      "\u001b[0;31mNameError\u001b[0m                                 Traceback (most recent call last)",
      "\u001b[0;32m<ipython-input-2-bd42fba893f4>\u001b[0m in \u001b[0;36m<module>\u001b[0;34m()\u001b[0m\n\u001b[1;32m      6\u001b[0m     \u001b[0;32mreturn\u001b[0m \u001b[0mmax\u001b[0m\u001b[0;34m(\u001b[0m\u001b[0mstock_price\u001b[0m\u001b[0;34m-\u001b[0m\u001b[0mstrike_price\u001b[0m\u001b[0;34m,\u001b[0m \u001b[0;36m0\u001b[0m\u001b[0;34m)\u001b[0m\u001b[0;34m\u001b[0m\u001b[0;34m\u001b[0m\u001b[0m\n\u001b[1;32m      7\u001b[0m \u001b[0;34m\u001b[0m\u001b[0m\n\u001b[0;32m----> 8\u001b[0;31m \u001b[0mprice_array\u001b[0m \u001b[0;34m=\u001b[0m \u001b[0mnp\u001b[0m\u001b[0;34m.\u001b[0m\u001b[0marray\u001b[0m\u001b[0;34m(\u001b[0m\u001b[0mprices\u001b[0m\u001b[0;34m[\u001b[0m\u001b[0;34m:\u001b[0m\u001b[0;34m,\u001b[0m \u001b[0;34m-\u001b[0m\u001b[0;36m1\u001b[0m\u001b[0;34m]\u001b[0m\u001b[0;34m)\u001b[0m\u001b[0;34m\u001b[0m\u001b[0;34m\u001b[0m\u001b[0m\n\u001b[0m\u001b[1;32m      9\u001b[0m \u001b[0mnp\u001b[0m\u001b[0;34m.\u001b[0m\u001b[0mmean\u001b[0m\u001b[0;34m(\u001b[0m\u001b[0mnpv\u001b[0m\u001b[0;34m(\u001b[0m\u001b[0moption_return\u001b[0m\u001b[0;34m(\u001b[0m\u001b[0mprice_array\u001b[0m\u001b[0;34m,\u001b[0m \u001b[0;36m100\u001b[0m\u001b[0;34m)\u001b[0m\u001b[0;34m,\u001b[0m \u001b[0;36m0.075\u001b[0m\u001b[0;34m,\u001b[0m \u001b[0;36m90\u001b[0m\u001b[0;34m)\u001b[0m\u001b[0;34m)\u001b[0m\u001b[0;34m\u001b[0m\u001b[0;34m\u001b[0m\u001b[0m\n",
      "\u001b[0;31mNameError\u001b[0m: name 'prices' is not defined"
     ]
    }
   ],
   "source": [
    "import numpy as np\n",
    "def npv(option, risk_free, days):\n",
    "    return option/(1+risk_free)**(days/365.25)\n",
    "\n",
    "def option_return(stock_price, strike_price):\n",
    "    return max(stock_price-strike_price, 0)\n",
    "\n",
    "price_array = np.array(prices[:, -1])\n",
    "np.mean(npv(option_return(price_array, 100), 0.075, 90))"
   ]
  },
  {
   "cell_type": "markdown",
   "metadata": {
    "collapsed": false
   },
   "source": [
    "<span class=\"minerva-question\" style='background-color:#5cb85c;padding: 5px 20px 5px 20px;line-height:30px;color:white;font-weight: bold; border-radius: 25px'>Task 4</span>\n",
    "\n",
    "Use your histogram of future price values to estimate the **present value** of a **put** option with the same strike price and expiry as the call option above."
   ]
  },
  {
   "cell_type": "code",
   "execution_count": 0,
   "metadata": {
    "collapsed": false
   },
   "outputs": [
   ],
   "source": [
   ]
  },
  {
   "cell_type": "markdown",
   "metadata": {
    "collapsed": false
   },
   "source": [
    "<span class=\"minerva-question\" style='background-color:#5cb85c;padding: 5px 20px 5px 20px;line-height:30px;color:white;font-weight: bold; border-radius: 25px'>Question 3</span>\n",
    "\n",
    "Are the call and put option prices the same or different? Explain why they are the same or different."
   ]
  },
  {
   "cell_type": "raw",
   "metadata": {
    "collapsed": false
   },
   "source": [
    "(your answer here)"
   ]
  }
 ],
 "metadata": {
  "kernelspec": {
   "display_name": "Python 3 (Anaconda 5)",
   "env": {
    "LD_LIBRARY_PATH": "/ext/anaconda5/lib",
    "PROJ_LIB": "/ext/anaconda-2019.03/share/proj",
    "PYTHONHOME": "/ext/anaconda5/lib/python3.5",
    "PYTHONPATH": "/ext/anaconda5/lib/python3.5:/ext/anaconda5/lib/python3.5/site-packages"
   },
   "language": "python",
   "metadata": {
    "cocalc": {
     "description": "Python/R distribution for data science",
     "priority": -1,
     "url": "https://www.anaconda.com/distribution/"
    }
   },
   "name": "anaconda5"
  },
  "language_info": {
   "codemirror_mode": {
    "name": "ipython",
    "version": 3
   },
   "file_extension": ".py",
   "mimetype": "text/x-python",
   "name": "python",
   "nbconvert_exporter": "python",
   "pygments_lexer": "ipython3",
   "version": "3.6.7"
  }
 },
 "nbformat": 4,
 "nbformat_minor": 4
}