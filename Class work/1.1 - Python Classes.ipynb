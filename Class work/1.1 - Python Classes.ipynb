{
 "cells": [
  {
   "cell_type": "markdown",
   "metadata": {},
   "source": [
    "## Car Class¶\n",
    "\n",
    "Modeling a car is another classic exercise.\n",
    "\n",
    "Define a Car() class.\n",
    "In the __init__() function, define several attributes of a car. Some good attributes to consider are make (Subaru, Audi, Volvo...), model (Outback, allroad, C30), year, num_doors, owner, or any other aspect of a car you care to include in your class.\n",
    "\n",
    "Write one method. This could be something such as describe_car(). This method could print a series of statements that describe the car, using the information that is stored in the attributes. You could also write a method that adjusts the mileage of the car or tracks its position.\n",
    "\n",
    "Create a car object, and use your method.\n",
    "\n",
    "Create several car objects with different values for the attributes. Use your method on several of your cars."
   ]
  },
  {
   "cell_type": "code",
   "execution_count": 29,
   "metadata": {},
   "outputs": [
    {
     "name": "stdout",
     "output_type": "stream",
     "text": [
      "Make: Volvo \n",
      "Model: V70 \n",
      "Made in year: 1989 \n",
      "\n",
      "Make: Volvo \n",
      "Model: V70 \n",
      "Made in year: 1995 \n",
      "\n",
      "Make: Volvo \n",
      "Model: V70 \n",
      "Made in year: 1996 \n",
      "\n",
      "Make: Volvo \n",
      "Model: V70 \n",
      "Made in year: 1997 \n",
      "\n",
      "Make: Volvo \n",
      "Model: V70 \n",
      "Made in year: 1998 \n",
      "\n",
      "Make: Volvo \n",
      "Model: V70 \n",
      "Made in year: 1999 \n",
      "\n"
     ]
    },
    {
     "data": {
      "text/plain": [
       "[None, None, None, None, None]"
      ]
     },
     "execution_count": 29,
     "metadata": {},
     "output_type": "execute_result"
    }
   ],
   "source": [
    "class Car():\n",
    "    \n",
    "    def __init__(self, make, model, year):\n",
    "        '''\n",
    "        Each car has a make (Subaru, Audi, Volvo...), \n",
    "        a model (Outback, allroad, C30), \n",
    "        and a year–the year it was made.\n",
    "        '''\n",
    "        self.make = make\n",
    "        self.model = model\n",
    "        self.year = year\n",
    "        \n",
    "    def describe(self):\n",
    "        '''\n",
    "        Print attributes of car\n",
    "        '''\n",
    "        print(\"Make:\", self.make,\n",
    "              \"\\nModel:\", self.model,\n",
    "              \"\\nMade in year:\", self.year, \"\\n\")\n",
    "\n",
    "        \n",
    "# Create a car object, and use method.     \n",
    "my_car = Car(make=\"Volvo\", model=\"V70\", year=1989)\n",
    "my_car.describe()\n",
    "\n",
    "#Create several car objects with different values for the attributes.\n",
    "cars = [Car(make=\"Volvo\", model=\"V70\", year=year) for year in range(1995, 2000)]\n",
    "\n",
    "#Call the method for each car\n",
    "[car.describe() for car in cars]"
   ]
  },
  {
   "cell_type": "code",
   "execution_count": null,
   "metadata": {},
   "outputs": [],
   "source": []
  }
 ],
 "metadata": {
  "kernelspec": {
   "display_name": "Python 3",
   "language": "python",
   "name": "python3"
  },
  "language_info": {
   "codemirror_mode": {
    "name": "ipython",
    "version": 3
   },
   "file_extension": ".py",
   "mimetype": "text/x-python",
   "name": "python",
   "nbconvert_exporter": "python",
   "pygments_lexer": "ipython3",
   "version": "3.6.9"
  }
 },
 "nbformat": 4,
 "nbformat_minor": 2
}
